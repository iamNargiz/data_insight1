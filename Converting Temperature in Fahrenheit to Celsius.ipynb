{
 "cells": [
  {
   "cell_type": "code",
   "execution_count": null,
   "id": "d5f5f696",
   "metadata": {},
   "outputs": [],
   "source": [
    "temperature = input(\"Enter the temperature you would like to convert (e.g., 56F, 39C, etc.): \") #Getting input from the user\n",
    "degree = int(temperature[0:-1]) #Getting digits from the input\n",
    "scale = temperature[-1].upper() #Getting the scale from the input\n",
    "result_scale='' #Initializing an empty string"
   ]
  },
  {
   "cell_type": "code",
   "execution_count": 9,
   "id": "c8308a2e",
   "metadata": {},
   "outputs": [
    {
     "name": "stdout",
     "output_type": "stream",
     "text": [
      "Your input is not proper\n"
     ]
    }
   ],
   "source": [
    "#Converting Celsius to Fahrenheit\n",
    "if scale == 'C':\n",
    "    result = int(round((9 * degree) / 5 + 32))\n",
    "    result_scale = 'Fahrenheit'\n",
    "    \n",
    "#Converting Fahrenheit to Celsius\n",
    "elif scale == 'F':\n",
    "    result = int(round((degree - 32) * 5 / 9))\n",
    "    result_scale = 'Celsius'\n",
    "    \n",
    "#Warning the user in case of not entering proper input \n",
    "else:\n",
    "    print(\"Your input is not proper\")\n",
    "    quit()"
   ]
  },
  {
   "cell_type": "code",
   "execution_count": 1,
   "id": "d580b54e",
   "metadata": {},
   "outputs": [
    {
     "ename": "NameError",
     "evalue": "name 'result_scale' is not defined",
     "output_type": "error",
     "traceback": [
      "\u001b[1;31m---------------------------------------------------------------------------\u001b[0m",
      "\u001b[1;31mNameError\u001b[0m                                 Traceback (most recent call last)",
      "\u001b[1;32m<ipython-input-1-92a98dc5ca2a>\u001b[0m in \u001b[0;36m<module>\u001b[1;34m\u001b[0m\n\u001b[0;32m      1\u001b[0m \u001b[1;31m#Printing out the final result\u001b[0m\u001b[1;33m\u001b[0m\u001b[1;33m\u001b[0m\u001b[1;33m\u001b[0m\u001b[0m\n\u001b[1;32m----> 2\u001b[1;33m \u001b[0mprint\u001b[0m\u001b[1;33m(\u001b[0m\u001b[1;34m\"The temperature in\"\u001b[0m\u001b[1;33m,\u001b[0m \u001b[0mresult_scale\u001b[0m\u001b[1;33m,\u001b[0m \u001b[1;34m\"is\"\u001b[0m\u001b[1;33m,\u001b[0m \u001b[0mresult\u001b[0m\u001b[1;33m,\u001b[0m \u001b[1;34m\"degrees.\"\u001b[0m\u001b[1;33m)\u001b[0m\u001b[1;33m\u001b[0m\u001b[1;33m\u001b[0m\u001b[0m\n\u001b[0m",
      "\u001b[1;31mNameError\u001b[0m: name 'result_scale' is not defined"
     ]
    }
   ],
   "source": [
    "#Printing out the final result\n",
    "print(\"The temperature in\", result_scale, \"is\", result, \"degrees.\")"
   ]
  },
  {
   "cell_type": "code",
   "execution_count": null,
   "id": "d113bac7",
   "metadata": {},
   "outputs": [],
   "source": []
  }
 ],
 "metadata": {
  "kernelspec": {
   "display_name": "Python 3",
   "language": "python",
   "name": "python3"
  },
  "language_info": {
   "codemirror_mode": {
    "name": "ipython",
    "version": 3
   },
   "file_extension": ".py",
   "mimetype": "text/x-python",
   "name": "python",
   "nbconvert_exporter": "python",
   "pygments_lexer": "ipython3",
   "version": "3.9.5"
  }
 },
 "nbformat": 4,
 "nbformat_minor": 5
}
